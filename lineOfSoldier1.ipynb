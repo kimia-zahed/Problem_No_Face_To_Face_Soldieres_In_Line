{
 "cells": [
  {
   "cell_type": "code",
   "execution_count": 1,
   "metadata": {},
   "outputs": [],
   "source": [
    "import numpy as np"
   ]
  },
  {
   "cell_type": "code",
   "execution_count": 2,
   "metadata": {},
   "outputs": [],
   "source": [
    "characters=['<', '>'] "
   ]
  },
  {
   "cell_type": "code",
   "execution_count": 8,
   "metadata": {},
   "outputs": [],
   "source": [
    "def makeLineOfsoldiers(soldierNumber): # puting soldiers randomly in a line \n",
    "    lineOfSoldiers=[]\n",
    "    for i in range(soldierNumber):\n",
    "        lineOfSoldiers.append(np.random.choice(characters))\n",
    "    \n",
    "    return lineOfSoldiers"
   ]
  },
  {
   "cell_type": "code",
   "execution_count": 47,
   "metadata": {},
   "outputs": [
    {
     "name": "stdout",
     "output_type": "stream",
     "text": [
      "problem is solved for number 10\n",
      "problem is solved for number 60\n",
      "problem is solved for number 110\n",
      "problem is solved for number 160\n",
      "problem is solved for number 210\n",
      "problem is solved for number 260\n",
      "problem is solved for number 310\n",
      "problem is solved for number 360\n",
      "problem is solved for number 410\n",
      "problem is solved for number 460\n",
      "problem is solved for number 510\n",
      "problem is solved for number 560\n",
      "problem is solved for number 610\n",
      "problem is solved for number 660\n",
      "problem is solved for number 710\n",
      "problem is solved for number 760\n",
      "problem is solved for number 810\n",
      "problem is solved for number 860\n",
      "problem is solved for number 910\n",
      "problem is solved for number 960\n",
      "problem is solved for number 1010\n"
     ]
    }
   ],
   "source": [
    "counterList=[]\n",
    "repeating=10\n",
    "start, stop, step = 10, 1041, 50 \n",
    "for soldierNumber in np.arange(start, stop, step): # increase number of soldiers\n",
    "    for avraging in range (repeating): # repeating process to calculate average tries of each number \n",
    "        lineOfSoldeures= makeLineOfsoldiers(soldierNumber)\n",
    "        counter= 0\n",
    "        counterTempList= np.array([])\n",
    "        while True: # process of solving\n",
    "            temp=[]\n",
    "            counter += 1\n",
    "            for i in range (len(lineOfSoldeures)-1):\n",
    "                if (lineOfSoldeures[i] == '>' and lineOfSoldeures[i+1]== '<'):\n",
    "                    temp.append(i)\n",
    "            if (len(temp)==0):\n",
    "                    break\n",
    "            else:\n",
    "                for j in temp:\n",
    "                    lineOfSoldeures[j] = '<'\n",
    "                    lineOfSoldeures[j+1] = '>'\n",
    "        counterTempList=np.append(counterTempList,counter)\n",
    "    counterList.append(counterTempList.mean())\n",
    "\n",
    "    print(\"problem is solved for number {}\".format(soldierNumber))        "
   ]
  },
  {
   "cell_type": "code",
   "execution_count": 36,
   "metadata": {},
   "outputs": [],
   "source": [
    "import matplotlib.pyplot as plt"
   ]
  },
  {
   "cell_type": "code",
   "execution_count": 63,
   "metadata": {},
   "outputs": [
    {
     "data": {
      "image/png": "[encoded data removed]",
      "text/plain": [
       "<Figure size 720x360 with 1 Axes>"
      ]
     },
     "metadata": {},
     "output_type": "display_data"
    }
   ],
   "source": [
    "plt.figure(figsize=(10,5))\n",
    "plt.plot(np.arange(start, stop, step),counterList,'o')\n",
    "plt.xlabel('Number of Soldiers', fontsize=13)\n",
    "plt.ylabel('Averaige Tries for Solving', fontsize=13)\n",
    "plt.grid()\n",
    "plt.savefig(\"numberOfsoldiers.png\")"
   ]
  }
 ],
 "metadata": {
  "kernelspec": {
   "display_name": "Python 3",
   "language": "python",
   "name": "python3"
  },
  "language_info": {
   "codemirror_mode": {
    "name": "ipython",
    "version": 3
   },
   "file_extension": ".py",
   "mimetype": "text/x-python",
   "name": "python",
   "nbconvert_exporter": "python",
   "pygments_lexer": "ipython3",
   "version": "3.6.9"
  }
 },
 "nbformat": 4,
 "nbformat_minor": 2
}
